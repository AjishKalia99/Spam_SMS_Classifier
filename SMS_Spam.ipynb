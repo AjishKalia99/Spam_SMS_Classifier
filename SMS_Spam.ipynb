{
 "cells": [
  {
   "cell_type": "code",
   "execution_count": 4,
   "metadata": {},
   "outputs": [
    {
     "name": "stdout",
     "output_type": "stream",
     "text": [
      "No of Mislabeled points out of 558 : 35\n",
      "Accuracy: 93.727599%\n"
     ]
    }
   ],
   "source": [
    "import pandas as pd\n",
    "import numpy as np\n",
    "from sklearn.model_selection import train_test_split\n",
    "from sklearn.naive_bayes import GaussianNB,MultinomialNB,BernoulliNB\n",
    "#import DataSet\n",
    "Data=pd.read_csv(\"Spam.csv\",encoding=\"latin-1\")\n",
    "#Cleaning the Data\n",
    "Data[\"Response_Cleaned\"]=np.where(Data[\"Response\"]==\"spam\",1,0)\n",
    "X=[]\n",
    "for i in range(0,Data.shape[0]):\n",
    "    s=Data[\"Message\"][i]\n",
    "    s=s.upper()\n",
    "    X.append(s.split())\n",
    "Data[\"Words\"]=X\n",
    "def Clean(S,X):\n",
    "    Clean=[]\n",
    "    for i in range(0,Data.shape[0]):\n",
    "        if S in X[i]:\n",
    "            Clean.append(1)\n",
    "        else:\n",
    "            Clean.append(0)\n",
    "    return Clean\n",
    "Data[\"Win_Cleaned\"]=Clean(\"WIN\",X)\n",
    "Data[\"Jack_Cleaned\"]=Clean(\"JACKPOT\",X)\n",
    "Data[\"Free_Cleaned\"]=Clean(\"FREE\",X)\n",
    "Data[\"Rep_Cleaned\"]=Clean(\"REPLY\",X)\n",
    "Data[\"Contact_Cleaned\"]=Clean(\"CONTACT\",X)\n",
    "Data[\"Call_Cleaned\"]=Clean(\"CALL\",X)\n",
    "Data[\"Click_Cleaned\"]=Clean(\"CLICK\",X)\n",
    "Data[\"Claim_Cleaned\"]=Clean(\"CLAIM\",X)\n",
    "Data[\"Send_Cleaned\"]=Clean(\"SEND\",X)\n",
    "Data[\"Pls_Cleaned\"]=Clean(\"PLEASE\",X)\n",
    "Data[\"Lucky_Cleaned\"]=Clean(\"LUCKY\",X)\n",
    "Data[\"Deals_Cleaned\"]=Clean(\"DEALS\",X)\n",
    "Features=[\"Win_Cleaned\",\"Jack_Cleaned\",\"Deals_Cleaned\",\"Free_Cleaned\",\"Rep_Cleaned\",\"Contact_Cleaned\",\"Call_Cleaned\",\"Click_Cleaned\",\"Send_Cleaned\",\"Claim_Cleaned\",\"Pls_Cleaned\",\"Lucky_Cleaned\"]\n",
    "Cleaned_Data=Data[Features]\n",
    "Cleaned_Resp=Data[[\"Response_Cleaned\"]]\n",
    "bnb=BernoulliNB()\n",
    "X_Train,X_Test,Y_Train,Y_Test=train_test_split(Cleaned_Data,Cleaned_Resp,test_size=0.1, random_state=1)\n",
    "bnb.fit(X_Train,np.ravel(Y_Train,order='C'))\n",
    "Y_Predicted=bnb.predict(X_Test)\n",
    "a=X_Test.shape[0]\n",
    "points=(Y_Predicted!=Y_Test[\"Response_Cleaned\"]).sum()\n",
    "acc=points/a\n",
    "acc=(1-acc)*100\n",
    "print(\"No of Mislabeled points out of {} : {}\\nAccuracy: {:05.6f}%\".format(a,points,acc))"
   ]
  },
  {
   "cell_type": "code",
   "execution_count": null,
   "metadata": {},
   "outputs": [],
   "source": []
  }
 ],
 "metadata": {
  "kernelspec": {
   "display_name": "Python 3",
   "language": "python",
   "name": "python3"
  },
  "language_info": {
   "codemirror_mode": {
    "name": "ipython",
    "version": 3
   },
   "file_extension": ".py",
   "mimetype": "text/x-python",
   "name": "python",
   "nbconvert_exporter": "python",
   "pygments_lexer": "ipython3",
   "version": "3.6.2"
  }
 },
 "nbformat": 4,
 "nbformat_minor": 2
}
